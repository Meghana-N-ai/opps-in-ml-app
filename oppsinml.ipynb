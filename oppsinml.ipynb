{
  "nbformat": 4,
  "nbformat_minor": 0,
  "metadata": {
    "colab": {
      "provenance": [],
      "toc_visible": true,
      "authorship_tag": "ABX9TyM9E55j+V22Drjcdso5PH+u",
      "include_colab_link": true
    },
    "kernelspec": {
      "name": "python3",
      "display_name": "Python 3"
    },
    "language_info": {
      "name": "python"
    }
  },
  "cells": [
    {
      "cell_type": "markdown",
      "metadata": {
        "id": "view-in-github",
        "colab_type": "text"
      },
      "source": [
        "<a href=\"https://colab.research.google.com/github/Meghana-N-ai/opps-in-ml-app/blob/main/oppsinml.ipynb\" target=\"_parent\"><img src=\"https://colab.research.google.com/assets/colab-badge.svg\" alt=\"Open In Colab\"/></a>"
      ]
    },
    {
      "cell_type": "markdown",
      "source": [],
      "metadata": {
        "id": "23Y8bT20XmYo"
      }
    },
    {
      "cell_type": "code",
      "execution_count": null,
      "metadata": {
        "id": "sW-L57W2SYI7"
      },
      "outputs": [],
      "source": [
        "# Step 1: Import Required Libraries\n",
        "from sklearn.datasets import load_iris\n",
        "from sklearn.model_selection import train_test_split\n",
        "from sklearn.preprocessing import StandardScaler\n",
        "from sklearn.tree import DecisionTreeClassifier\n",
        "from sklearn.metrics import classification_report"
      ]
    },
    {
      "cell_type": "code",
      "source": [
        "# Step 2: Data Loader Class\n",
        "class DataLoader:\n",
        "  def __init__(self):\n",
        "    self.X, self.y = load_iris(return_X_y=True)\n",
        "  def split(self, test_size=0.3, random_state=42):\n",
        "    return train_test_split(self.X, self.y, test_size=test_size,random_state=random_state)"
      ],
      "metadata": {
        "id": "Nv-u_T9PScWn"
      },
      "execution_count": null,
      "outputs": []
    },
    {
      "cell_type": "code",
      "source": [
        "class Preprocessor:\n",
        "  def __init__(self):\n",
        "    self.scaler = StandardScaler()\n",
        "  def fit_transform(self, X_train):\n",
        "      return self.scaler.fit_transform(X_train)\n",
        "  def transform(self, X_test):\n",
        "    return self.scaler.transform(X_test)"
      ],
      "metadata": {
        "id": "dPgSYWalShIG"
      },
      "execution_count": null,
      "outputs": []
    },
    {
      "cell_type": "code",
      "source": [
        "class MLModel:\n",
        "  def __init__(self):\n",
        "    self.model = DecisionTreeClassifier()\n",
        "  def train(self, X_train, y_train):\n",
        "    self.model.fit(X_train, y_train)\n",
        "  def predict(self, X_test):\n",
        "    return self.model.predict(X_test)"
      ],
      "metadata": {
        "id": "dJ-ruOp6S_4K"
      },
      "execution_count": null,
      "outputs": []
    },
    {
      "cell_type": "code",
      "source": [
        "class Evaluator:\n",
        "  def __init__(self, y_true, y_pred):\n",
        "    self.y_true = y_true\n",
        "    self.y_pred = y_pred\n",
        "\n",
        "  def report(self):\n",
        "    print(\" Classification Report:\")\n",
        "    print(classification_report(self.y_true, self.y_pred))"
      ],
      "metadata": {
        "id": "TvkumqsDTVT1"
      },
      "execution_count": null,
      "outputs": []
    },
    {
      "cell_type": "code",
      "source": [
        "class MLApplication:\n",
        "  def __init__(self):\n",
        "    self.loader = DataLoader()\n",
        "    self.preprocessor = Preprocessor()\n",
        "    self.model = MLModel()\n",
        "  def run(self):\n",
        "    X_train, X_test, y_train, y_test = self.loader.split()\n",
        "    X_train_scaled = self.preprocessor.fit_transform(X_train)\n",
        "    X_test_scaled = self.preprocessor.transform(X_test)\n",
        "    self.model.train(X_train_scaled, y_train)\n",
        "    y_pred = self.model.predict(X_test_scaled)\n",
        "    evaluator = Evaluator(y_test, y_pred)\n",
        "    evaluator.report()"
      ],
      "metadata": {
        "id": "Ml4gtgX2Tm4o"
      },
      "execution_count": null,
      "outputs": []
    },
    {
      "cell_type": "code",
      "source": [
        "app = MLApplication()\n",
        "app.run()"
      ],
      "metadata": {
        "colab": {
          "base_uri": "https://localhost:8080/"
        },
        "id": "cj6BNtCZT_wb",
        "outputId": "962f3a79-645b-42b7-cb44-ceca8717d230"
      },
      "execution_count": null,
      "outputs": [
        {
          "output_type": "stream",
          "name": "stdout",
          "text": [
            " Classification Report:\n",
            "              precision    recall  f1-score   support\n",
            "\n",
            "           0       1.00      1.00      1.00        19\n",
            "           1       1.00      1.00      1.00        13\n",
            "           2       1.00      1.00      1.00        13\n",
            "\n",
            "    accuracy                           1.00        45\n",
            "   macro avg       1.00      1.00      1.00        45\n",
            "weighted avg       1.00      1.00      1.00        45\n",
            "\n"
          ]
        }
      ]
    },
    {
      "cell_type": "code",
      "source": [],
      "metadata": {
        "id": "f5tkc1EhUtaA"
      },
      "execution_count": null,
      "outputs": []
    },
    {
      "cell_type": "code",
      "source": [],
      "metadata": {
        "id": "tCOZ6Mh3YkvI"
      },
      "execution_count": null,
      "outputs": []
    },
    {
      "cell_type": "code",
      "source": [],
      "metadata": {
        "id": "QF15-oTBYvZA"
      },
      "execution_count": null,
      "outputs": []
    }
  ]
}